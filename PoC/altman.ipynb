{
 "cells": [
  {
   "cell_type": "code",
   "execution_count": 1,
   "metadata": {},
   "outputs": [],
   "source": [
    "import numpy as np\n",
    "import pandas as pd\n",
    "import matplotlib.pyplot as plt\n",
    "import warnings\n",
    "warnings.filterwarnings(\"ignore\")"
   ]
  },
  {
   "cell_type": "code",
   "execution_count": 2,
   "metadata": {},
   "outputs": [
    {
     "data": {
      "text/html": [
       "<div>\n",
       "<style scoped>\n",
       "    .dataframe tbody tr th:only-of-type {\n",
       "        vertical-align: middle;\n",
       "    }\n",
       "\n",
       "    .dataframe tbody tr th {\n",
       "        vertical-align: top;\n",
       "    }\n",
       "\n",
       "    .dataframe thead th {\n",
       "        text-align: right;\n",
       "    }\n",
       "</style>\n",
       "<table border=\"1\" class=\"dataframe\">\n",
       "  <thead>\n",
       "    <tr style=\"text-align: right;\">\n",
       "      <th></th>\n",
       "      <th>PERMCO</th>\n",
       "      <th>fyear</th>\n",
       "      <th>dlrsn</th>\n",
       "    </tr>\n",
       "  </thead>\n",
       "  <tbody>\n",
       "    <tr>\n",
       "      <th>0</th>\n",
       "      <td>20000</td>\n",
       "      <td>2000</td>\n",
       "      <td>0.0</td>\n",
       "    </tr>\n",
       "    <tr>\n",
       "      <th>1</th>\n",
       "      <td>20000</td>\n",
       "      <td>2001</td>\n",
       "      <td>0.0</td>\n",
       "    </tr>\n",
       "    <tr>\n",
       "      <th>2</th>\n",
       "      <td>20000</td>\n",
       "      <td>2002</td>\n",
       "      <td>0.0</td>\n",
       "    </tr>\n",
       "    <tr>\n",
       "      <th>3</th>\n",
       "      <td>20000</td>\n",
       "      <td>2003</td>\n",
       "      <td>0.0</td>\n",
       "    </tr>\n",
       "    <tr>\n",
       "      <th>4</th>\n",
       "      <td>20000</td>\n",
       "      <td>2004</td>\n",
       "      <td>0.0</td>\n",
       "    </tr>\n",
       "    <tr>\n",
       "      <th>...</th>\n",
       "      <td>...</td>\n",
       "      <td>...</td>\n",
       "      <td>...</td>\n",
       "    </tr>\n",
       "    <tr>\n",
       "      <th>44701</th>\n",
       "      <td>54852</td>\n",
       "      <td>2018</td>\n",
       "      <td>0.0</td>\n",
       "    </tr>\n",
       "    <tr>\n",
       "      <th>44702</th>\n",
       "      <td>56329</td>\n",
       "      <td>2018</td>\n",
       "      <td>0.0</td>\n",
       "    </tr>\n",
       "    <tr>\n",
       "      <th>44703</th>\n",
       "      <td>56329</td>\n",
       "      <td>2019</td>\n",
       "      <td>0.0</td>\n",
       "    </tr>\n",
       "    <tr>\n",
       "      <th>44704</th>\n",
       "      <td>56407</td>\n",
       "      <td>2018</td>\n",
       "      <td>0.0</td>\n",
       "    </tr>\n",
       "    <tr>\n",
       "      <th>44705</th>\n",
       "      <td>56407</td>\n",
       "      <td>2019</td>\n",
       "      <td>0.0</td>\n",
       "    </tr>\n",
       "  </tbody>\n",
       "</table>\n",
       "<p>44706 rows × 3 columns</p>\n",
       "</div>"
      ],
      "text/plain": [
       "       PERMCO  fyear  dlrsn\n",
       "0       20000   2000    0.0\n",
       "1       20000   2001    0.0\n",
       "2       20000   2002    0.0\n",
       "3       20000   2003    0.0\n",
       "4       20000   2004    0.0\n",
       "...       ...    ...    ...\n",
       "44701   54852   2018    0.0\n",
       "44702   56329   2018    0.0\n",
       "44703   56329   2019    0.0\n",
       "44704   56407   2018    0.0\n",
       "44705   56407   2019    0.0\n",
       "\n",
       "[44706 rows x 3 columns]"
      ]
     },
     "execution_count": 2,
     "metadata": {},
     "output_type": "execute_result"
    }
   ],
   "source": [
    "df = pd.read_csv('altman.csv')\n",
    "dlrsn = pd.read_csv('dlrsn_alt.csv')\n",
    "dlrsn.drop(columns=['Unnamed: 0'], inplace=True)\n",
    "dlrsn"
   ]
  },
  {
   "cell_type": "code",
   "execution_count": 3,
   "metadata": {},
   "outputs": [],
   "source": [
    "df.drop(columns=['GVKEY', 'datadate', 'indfmt', 'consol', 'popsrc','datafmt', 'curcd','dlrsn'], inplace=True)"
   ]
  },
  {
   "cell_type": "code",
   "execution_count": 4,
   "metadata": {},
   "outputs": [],
   "source": [
    "df['WC/A'] = df['wcap']/df['at']\n",
    "df['RE/A'] = df['reuna']/df['at']\n",
    "df['EBITA/A'] = df['ebitda']/df['at']\n",
    "df['MVE/BVL'] = df['mkvalt']/df['lt']\n",
    "df['SALES/A'] = df['sale']/df['at']"
   ]
  },
  {
   "cell_type": "code",
   "execution_count": 5,
   "metadata": {},
   "outputs": [],
   "source": [
    "df.drop(columns = ['at','ebitda','lt','reuna','sale','mkvalt','wcap','costat'], inplace=True)"
   ]
  },
  {
   "cell_type": "code",
   "execution_count": 6,
   "metadata": {},
   "outputs": [
    {
     "name": "stdout",
     "output_type": "stream",
     "text": [
      "<class 'pandas.core.frame.DataFrame'>\n",
      "RangeIndex: 48566 entries, 0 to 48565\n",
      "Data columns (total 8 columns):\n",
      " #   Column   Non-Null Count  Dtype  \n",
      "---  ------   --------------  -----  \n",
      " 0   LPERMCO  48566 non-null  int64  \n",
      " 1   fyear    48565 non-null  float64\n",
      " 2   conm     48566 non-null  object \n",
      " 3   WC/A     37028 non-null  float64\n",
      " 4   RE/A     46401 non-null  float64\n",
      " 5   EBITA/A  46422 non-null  float64\n",
      " 6   MVE/BVL  45815 non-null  float64\n",
      " 7   SALES/A  48493 non-null  float64\n",
      "dtypes: float64(6), int64(1), object(1)\n",
      "memory usage: 3.0+ MB\n"
     ]
    }
   ],
   "source": [
    "df.info()"
   ]
  },
  {
   "cell_type": "code",
   "execution_count": 7,
   "metadata": {},
   "outputs": [],
   "source": [
    "df.columns = ['PERMCO','fyear','conm','WC/A','RE/A','EBITA/A','MVE/BVL','SALES/A']"
   ]
  },
  {
   "cell_type": "code",
   "execution_count": 8,
   "metadata": {},
   "outputs": [],
   "source": [
    "df['altman'] = 1.2*df['WC/A'] + 1.4*df['RE/A'] + 3.3*df['EBITA/A'] + 0.6*df['MVE/BVL'] + 0.99*df['SALES/A'] "
   ]
  },
  {
   "cell_type": "code",
   "execution_count": 9,
   "metadata": {},
   "outputs": [],
   "source": [
    "def default(row):\n",
    "    if row['altman'] <= 1.8:\n",
    "        val = 1.0\n",
    "    else:\n",
    "        val = 0.0\n",
    "    return val"
   ]
  },
  {
   "cell_type": "code",
   "execution_count": 10,
   "metadata": {},
   "outputs": [],
   "source": [
    "df['default'] = df.apply(default, axis=1)"
   ]
  },
  {
   "cell_type": "code",
   "execution_count": 11,
   "metadata": {},
   "outputs": [
    {
     "data": {
      "text/html": [
       "<div>\n",
       "<style scoped>\n",
       "    .dataframe tbody tr th:only-of-type {\n",
       "        vertical-align: middle;\n",
       "    }\n",
       "\n",
       "    .dataframe tbody tr th {\n",
       "        vertical-align: top;\n",
       "    }\n",
       "\n",
       "    .dataframe thead th {\n",
       "        text-align: right;\n",
       "    }\n",
       "</style>\n",
       "<table border=\"1\" class=\"dataframe\">\n",
       "  <thead>\n",
       "    <tr style=\"text-align: right;\">\n",
       "      <th></th>\n",
       "      <th>PERMCO</th>\n",
       "      <th>fyear</th>\n",
       "      <th>conm</th>\n",
       "      <th>WC/A</th>\n",
       "      <th>RE/A</th>\n",
       "      <th>EBITA/A</th>\n",
       "      <th>MVE/BVL</th>\n",
       "      <th>SALES/A</th>\n",
       "      <th>altman</th>\n",
       "      <th>default</th>\n",
       "    </tr>\n",
       "  </thead>\n",
       "  <tbody>\n",
       "    <tr>\n",
       "      <th>0</th>\n",
       "      <td>20000</td>\n",
       "      <td>1999.0</td>\n",
       "      <td>AAR CORP</td>\n",
       "      <td>0.468896</td>\n",
       "      <td>0.284041</td>\n",
       "      <td>0.120150</td>\n",
       "      <td>0.928438</td>\n",
       "      <td>1.382369</td>\n",
       "      <td>3.282437</td>\n",
       "      <td>0.0</td>\n",
       "    </tr>\n",
       "    <tr>\n",
       "      <th>1</th>\n",
       "      <td>20000</td>\n",
       "      <td>2000.0</td>\n",
       "      <td>AAR CORP</td>\n",
       "      <td>0.513588</td>\n",
       "      <td>0.313239</td>\n",
       "      <td>0.091710</td>\n",
       "      <td>1.042794</td>\n",
       "      <td>1.245637</td>\n",
       "      <td>3.216340</td>\n",
       "      <td>0.0</td>\n",
       "    </tr>\n",
       "    <tr>\n",
       "      <th>2</th>\n",
       "      <td>20000</td>\n",
       "      <td>2001.0</td>\n",
       "      <td>AAR CORP</td>\n",
       "      <td>0.402974</td>\n",
       "      <td>0.220331</td>\n",
       "      <td>0.038309</td>\n",
       "      <td>0.911564</td>\n",
       "      <td>0.899355</td>\n",
       "      <td>2.355752</td>\n",
       "      <td>0.0</td>\n",
       "    </tr>\n",
       "    <tr>\n",
       "      <th>3</th>\n",
       "      <td>20000</td>\n",
       "      <td>2002.0</td>\n",
       "      <td>AAR CORP</td>\n",
       "      <td>0.280849</td>\n",
       "      <td>0.208662</td>\n",
       "      <td>0.044777</td>\n",
       "      <td>0.365979</td>\n",
       "      <td>0.883074</td>\n",
       "      <td>1.870742</td>\n",
       "      <td>0.0</td>\n",
       "    </tr>\n",
       "    <tr>\n",
       "      <th>4</th>\n",
       "      <td>20000</td>\n",
       "      <td>2003.0</td>\n",
       "      <td>AAR CORP</td>\n",
       "      <td>0.424286</td>\n",
       "      <td>0.206933</td>\n",
       "      <td>0.066955</td>\n",
       "      <td>0.757853</td>\n",
       "      <td>0.919167</td>\n",
       "      <td>2.384491</td>\n",
       "      <td>0.0</td>\n",
       "    </tr>\n",
       "    <tr>\n",
       "      <th>...</th>\n",
       "      <td>...</td>\n",
       "      <td>...</td>\n",
       "      <td>...</td>\n",
       "      <td>...</td>\n",
       "      <td>...</td>\n",
       "      <td>...</td>\n",
       "      <td>...</td>\n",
       "      <td>...</td>\n",
       "      <td>...</td>\n",
       "      <td>...</td>\n",
       "    </tr>\n",
       "    <tr>\n",
       "      <th>48561</th>\n",
       "      <td>54852</td>\n",
       "      <td>2018.0</td>\n",
       "      <td>DORIAN LPG LTD</td>\n",
       "      <td>0.001984</td>\n",
       "      <td>0.052293</td>\n",
       "      <td>0.041383</td>\n",
       "      <td>0.496962</td>\n",
       "      <td>0.098755</td>\n",
       "      <td>0.608097</td>\n",
       "      <td>1.0</td>\n",
       "    </tr>\n",
       "    <tr>\n",
       "      <th>48562</th>\n",
       "      <td>56329</td>\n",
       "      <td>2018.0</td>\n",
       "      <td>NVENT ELECTRIC PLC</td>\n",
       "      <td>0.084521</td>\n",
       "      <td>0.018319</td>\n",
       "      <td>0.101171</td>\n",
       "      <td>2.133604</td>\n",
       "      <td>0.486217</td>\n",
       "      <td>2.222452</td>\n",
       "      <td>0.0</td>\n",
       "    </tr>\n",
       "    <tr>\n",
       "      <th>48563</th>\n",
       "      <td>56329</td>\n",
       "      <td>2019.0</td>\n",
       "      <td>NVENT ELECTRIC PLC</td>\n",
       "      <td>0.072517</td>\n",
       "      <td>0.040234</td>\n",
       "      <td>0.098377</td>\n",
       "      <td>2.117214</td>\n",
       "      <td>0.474969</td>\n",
       "      <td>2.208541</td>\n",
       "      <td>0.0</td>\n",
       "    </tr>\n",
       "    <tr>\n",
       "      <th>48564</th>\n",
       "      <td>56407</td>\n",
       "      <td>2018.0</td>\n",
       "      <td>GRINDROD SHIPPING</td>\n",
       "      <td>0.148076</td>\n",
       "      <td>-0.015727</td>\n",
       "      <td>-0.005882</td>\n",
       "      <td>0.766867</td>\n",
       "      <td>0.712687</td>\n",
       "      <td>1.301942</td>\n",
       "      <td>1.0</td>\n",
       "    </tr>\n",
       "    <tr>\n",
       "      <th>48565</th>\n",
       "      <td>56407</td>\n",
       "      <td>2019.0</td>\n",
       "      <td>GRINDROD SHIPPING</td>\n",
       "      <td>0.009068</td>\n",
       "      <td>-0.097423</td>\n",
       "      <td>0.078751</td>\n",
       "      <td>0.455879</td>\n",
       "      <td>0.637771</td>\n",
       "      <td>1.039289</td>\n",
       "      <td>1.0</td>\n",
       "    </tr>\n",
       "  </tbody>\n",
       "</table>\n",
       "<p>48566 rows × 10 columns</p>\n",
       "</div>"
      ],
      "text/plain": [
       "       PERMCO   fyear                conm      WC/A      RE/A   EBITA/A  \\\n",
       "0       20000  1999.0            AAR CORP  0.468896  0.284041  0.120150   \n",
       "1       20000  2000.0            AAR CORP  0.513588  0.313239  0.091710   \n",
       "2       20000  2001.0            AAR CORP  0.402974  0.220331  0.038309   \n",
       "3       20000  2002.0            AAR CORP  0.280849  0.208662  0.044777   \n",
       "4       20000  2003.0            AAR CORP  0.424286  0.206933  0.066955   \n",
       "...       ...     ...                 ...       ...       ...       ...   \n",
       "48561   54852  2018.0      DORIAN LPG LTD  0.001984  0.052293  0.041383   \n",
       "48562   56329  2018.0  NVENT ELECTRIC PLC  0.084521  0.018319  0.101171   \n",
       "48563   56329  2019.0  NVENT ELECTRIC PLC  0.072517  0.040234  0.098377   \n",
       "48564   56407  2018.0   GRINDROD SHIPPING  0.148076 -0.015727 -0.005882   \n",
       "48565   56407  2019.0   GRINDROD SHIPPING  0.009068 -0.097423  0.078751   \n",
       "\n",
       "        MVE/BVL   SALES/A    altman  default  \n",
       "0      0.928438  1.382369  3.282437      0.0  \n",
       "1      1.042794  1.245637  3.216340      0.0  \n",
       "2      0.911564  0.899355  2.355752      0.0  \n",
       "3      0.365979  0.883074  1.870742      0.0  \n",
       "4      0.757853  0.919167  2.384491      0.0  \n",
       "...         ...       ...       ...      ...  \n",
       "48561  0.496962  0.098755  0.608097      1.0  \n",
       "48562  2.133604  0.486217  2.222452      0.0  \n",
       "48563  2.117214  0.474969  2.208541      0.0  \n",
       "48564  0.766867  0.712687  1.301942      1.0  \n",
       "48565  0.455879  0.637771  1.039289      1.0  \n",
       "\n",
       "[48566 rows x 10 columns]"
      ]
     },
     "execution_count": 11,
     "metadata": {},
     "output_type": "execute_result"
    }
   ],
   "source": [
    "df"
   ]
  },
  {
   "cell_type": "code",
   "execution_count": 12,
   "metadata": {},
   "outputs": [],
   "source": [
    "df = pd.merge(df, dlrsn, on = ['PERMCO','fyear'], how = 'left')"
   ]
  },
  {
   "cell_type": "code",
   "execution_count": 13,
   "metadata": {},
   "outputs": [],
   "source": [
    "df.dropna(subset=['dlrsn'], inplace=True)"
   ]
  },
  {
   "cell_type": "code",
   "execution_count": 14,
   "metadata": {},
   "outputs": [
    {
     "name": "stdout",
     "output_type": "stream",
     "text": [
      "1.99 82.16 56.25 1.01\n"
     ]
    }
   ],
   "source": [
    "from sklearn.metrics import precision_score, recall_score, f1_score, roc_auc_score, accuracy_score, classification_report\n",
    "f1 = f1_score(df.dlrsn, df.default)\n",
    "acc = accuracy_score(df.dlrsn, df.default)\n",
    "recall = recall_score(df.dlrsn, df.default)\n",
    "precision = precision_score(df.dlrsn, df.default)\n",
    "print(round(f1*100,2), round(acc*100,2), round(recall*100,2), round(precision*100,2))"
   ]
  },
  {
   "cell_type": "code",
   "execution_count": 17,
   "metadata": {},
   "outputs": [],
   "source": [
    "import itertools\n",
    "\n",
    "# Create a confusion matrix\n",
    "def plot_confusion_matrix(cm, classes,\n",
    "                          normalize=False,\n",
    "                          title='Confusion matrix',\n",
    "                          cmap=plt.cm.Blues):\n",
    "    \"\"\"\n",
    "    This function prints and plots the confusion matrix.\n",
    "    Normalization can be applied by setting `normalize=True`.\n",
    "    \"\"\"\n",
    "    if normalize:\n",
    "        cm = cm.astype('float') / cm.sum(axis=1)[:, np.newaxis]\n",
    "        print(\"Normalized confusion matrix\")\n",
    "    else:\n",
    "        print('Confusion matrix, without normalization')\n",
    "\n",
    "    print(cm)\n",
    "\n",
    "    plt.imshow(cm, interpolation='nearest', cmap=cmap)\n",
    "    plt.title(title, fontsize=14)\n",
    "    plt.colorbar()\n",
    "    tick_marks = np.arange(len(classes))\n",
    "    plt.xticks(tick_marks, classes, rotation=45)\n",
    "    plt.yticks(tick_marks, classes)\n",
    "\n",
    "    fmt = '.2f' if normalize else 'd'\n",
    "    thresh = cm.max() / 2.\n",
    "    for i, j in itertools.product(range(cm.shape[0]), range(cm.shape[1])):\n",
    "        plt.text(j, i, format(cm[i, j], fmt),\n",
    "                 horizontalalignment=\"center\",\n",
    "                 color=\"white\" if cm[i, j] > thresh else \"black\")\n",
    "\n",
    "    plt.tight_layout()\n",
    "    plt.ylabel('True label')\n",
    "    plt.xlabel('Predicted label')"
   ]
  },
  {
   "cell_type": "code",
   "execution_count": 18,
   "metadata": {},
   "outputs": [
    {
     "name": "stdout",
     "output_type": "stream",
     "text": [
      "Confusion matrix, without normalization\n",
      "[[36649  7913]\n",
      " [   63    81]]\n",
      "Confusion matrix, without normalization\n",
      "[[44562     0]\n",
      " [    0   144]]\n"
     ]
    },
    {
     "data": {
      "image/png": "[encoded data removed]",
      "text/plain": [
       "<Figure size 1152x576 with 4 Axes>"
      ]
     },
     "metadata": {
      "needs_background": "light"
     },
     "output_type": "display_data"
    }
   ],
   "source": [
    "from sklearn.metrics import confusion_matrix\n",
    "altman_cm = confusion_matrix(df.dlrsn, df.default)\n",
    "actual_cm = confusion_matrix(df.dlrsn, df.dlrsn)\n",
    "labels = ['No Bankruptcy', 'Bankruptcy']\n",
    "\n",
    "fig = plt.figure(figsize=(16,8))\n",
    "\n",
    "fig.add_subplot(221)\n",
    "plot_confusion_matrix(altman_cm, labels, title=\"Altman \\n Confusion Matrix\", cmap=plt.cm.Oranges)\n",
    "\n",
    "fig.add_subplot(222)\n",
    "plot_confusion_matrix(actual_cm, labels, title=\"Confusion Matrix \\n (with 100% accuracy)\", cmap=plt.cm.Greens)"
   ]
  }
 ],
 "metadata": {
  "kernelspec": {
   "display_name": "Python 3",
   "language": "python",
   "name": "python3"
  },
  "language_info": {
   "codemirror_mode": {
    "name": "ipython",
    "version": 3
   },
   "file_extension": ".py",
   "mimetype": "text/x-python",
   "name": "python",
   "nbconvert_exporter": "python",
   "pygments_lexer": "ipython3",
   "version": "3.7.4"
  },
  "varInspector": {
   "cols": {
    "lenName": 16,
    "lenType": 16,
    "lenVar": 40
   },
   "kernels_config": {
    "python": {
     "delete_cmd_postfix": "",
     "delete_cmd_prefix": "del ",
     "library": "var_list.py",
     "varRefreshCmd": "print(var_dic_list())"
    },
    "r": {
     "delete_cmd_postfix": ") ",
     "delete_cmd_prefix": "rm(",
     "library": "var_list.r",
     "varRefreshCmd": "cat(var_dic_list()) "
    }
   },
   "types_to_exclude": [
    "module",
    "function",
    "builtin_function_or_method",
    "instance",
    "_Feature"
   ],
   "window_display": false
  }
 },
 "nbformat": 4,
 "nbformat_minor": 4
}
