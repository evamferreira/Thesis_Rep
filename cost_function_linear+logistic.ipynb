{
 "cells": [
  {
   "cell_type": "code",
   "execution_count": null,
   "metadata": {},
   "outputs": [],
   "source": [
    "#Linear Cost Funtion\n",
    "def computeCost(X,y,theta):\n",
    "    m = len(y)\n",
    "    \n",
    "    SE = (X@theta - y).T@(X@theta - y)\n",
    "    \n",
    "    J = SE/(2*m)\n",
    "    \n",
    "    return J"
   ]
  },
  {
   "cell_type": "code",
   "execution_count": null,
   "metadata": {},
   "outputs": [],
   "source": [
    "#Logistic Cost Funtion\n",
    "def computeCost(X,y,theta):\n",
    "    m = len(y)\n",
    "    \n",
    "    h = sigmoid(X@theta)\n",
    "    \n",
    "    SE = -y.T@np.log(h)-(1-y).T@np.log(1-h)\n",
    "    \n",
    "    J = SE/m\n",
    "    \n",
    "    return J"
   ]
  },
  {
   "cell_type": "code",
   "execution_count": null,
   "metadata": {},
   "outputs": [],
   "source": [
    "#Logistic Cost Function with Regularization\n",
    "def computeCostReg(X,y,theta,lamb):\n",
    "    lr = theta.shape[0]\n",
    "    m = len(y)\n",
    "    \n",
    "    h = sigmoid(X@theta)\n",
    "    \n",
    "    J = (-y.T@np.log(h)-(1-y).T@np.log(1-h))/m + lamb/(2*m)*np.sum(theta[1:lr]**2) \n",
    "    \n",
    "    return J"
   ]
  },
  {
   "cell_type": "code",
   "execution_count": null,
   "metadata": {},
   "outputs": [],
   "source": [
    "#Auxiliar Function\n",
    "def sigmoid(z):\n",
    "    return 1/(1+np.exp(-z))"
   ]
  }
 ],
 "metadata": {
  "kernelspec": {
   "display_name": "Python 3",
   "language": "python",
   "name": "python3"
  },
  "language_info": {
   "codemirror_mode": {
    "name": "ipython",
    "version": 3
   },
   "file_extension": ".py",
   "mimetype": "text/x-python",
   "name": "python",
   "nbconvert_exporter": "python",
   "pygments_lexer": "ipython3",
   "version": "3.7.4"
  },
  "varInspector": {
   "cols": {
    "lenName": 16,
    "lenType": 16,
    "lenVar": 40
   },
   "kernels_config": {
    "python": {
     "delete_cmd_postfix": "",
     "delete_cmd_prefix": "del ",
     "library": "var_list.py",
     "varRefreshCmd": "print(var_dic_list())"
    },
    "r": {
     "delete_cmd_postfix": ") ",
     "delete_cmd_prefix": "rm(",
     "library": "var_list.r",
     "varRefreshCmd": "cat(var_dic_list()) "
    }
   },
   "types_to_exclude": [
    "module",
    "function",
    "builtin_function_or_method",
    "instance",
    "_Feature"
   ],
   "window_display": false
  }
 },
 "nbformat": 4,
 "nbformat_minor": 4
}
